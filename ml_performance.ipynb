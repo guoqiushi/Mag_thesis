{
 "cells": [
  {
   "cell_type": "code",
   "execution_count": 266,
   "metadata": {},
   "outputs": [],
   "source": [
    "import pandas as pd\n",
    "import os\n",
    "import numpy as np\n",
    "from queue import Queue\n",
    "from sklearn import svm\n",
    "from sklearn.neighbors import KNeighborsRegressor\n",
    "from sklearn.multioutput import MultiOutputRegressor\n",
    "from sklearn.ensemble import RandomForestRegressor\n",
    "from sklearn.ensemble import AdaBoostRegressor\n",
    "from sklearn.ensemble import GradientBoostingRegressor\n",
    "from sklearn.svm import SVR\n",
    "from sklearn.covariance import EllipticEnvelope\n",
    "import random\n",
    "import math\n",
    "import time\n",
    "from math import sin,cos\n",
    "import matplotlib.pyplot as plt\n",
    "from sklearn.ensemble import IsolationForest\n",
    "from sklearn import preprocessing\n",
    "from sklearn.neural_network import MLPRegressor\n",
    "from sklearn.preprocessing import MinMaxScaler"
   ]
  },
  {
   "cell_type": "code",
   "execution_count": 3,
   "metadata": {},
   "outputs": [],
   "source": [
    "class ml_fileObject:\n",
    "\n",
    "    def __init__(self, root, index):\n",
    "        self.root = root\n",
    "        self.index = index\n",
    "        self.path = os.path.join(root, str(index))\n",
    "        for files in os.listdir(self.path):\n",
    "            if files.startswith('IMU'):\n",
    "                self.imu_path = os.path.join(self.path, files)\n",
    "            elif files.startswith('Mag'):\n",
    "                self.mag_path = os.path.join(self.path, files)\n",
    "            elif files.startswith('ultra'):\n",
    "                self.ultra_path = os.path.join(self.path, files)\n",
    "        self.height_dict = {\n",
    "            '1': 0.736,\n",
    "            '2': 0.782,\n",
    "            '3': 0.827,\n",
    "            '4': 0.877,\n",
    "            '5': 0.936,\n",
    "            '6': 0.981,\n",
    "            '7': 1.043,\n",
    "            '8': 1.102\n",
    "        }\n",
    "\n",
    "    def get_ultra(self):\n",
    "        Dataframe = pd.read_csv(self.ultra_path, sep=\" \",\n",
    "                                names=[\"ID\", \"P_x\", \"P_y\", \"P_z\", \"unknow\", \"unknow_1\", \"Time_Stamp\"])\n",
    "        Dataframe = Dataframe.drop([\"ID\", \"unknow\", \"unknow_1\"], axis=1)\n",
    "        rows, columns = Dataframe.shape\n",
    "        serial_num = np.arange(0, rows, 1).tolist()\n",
    "        serial_num_inte = np.arange(0, rows, 0.1).tolist()\n",
    "        Px_inte = np.interp(serial_num_inte, serial_num, Dataframe[\"P_x\"])\n",
    "        Py_inte = np.interp(serial_num_inte, serial_num, Dataframe[\"P_y\"])\n",
    "        Pz_inte = np.interp(serial_num_inte, serial_num, Dataframe[\"P_z\"])\n",
    "        Pt_inte = np.interp(serial_num_inte, serial_num, Dataframe[\"Time_Stamp\"])\n",
    "        Dataframe_inte = pd.DataFrame(columns=[\"Serial_Num\", 'P_X', 'P_Y', 'P_Z', \"Time_Stamp\"])\n",
    "        Dataframe_inte[\"Serial_Num\"] = np.arange(0, len(serial_num_inte), 1).tolist()\n",
    "        Dataframe_inte[\"P_X\"] = Px_inte\n",
    "        Dataframe_inte[\"P_Y\"] = Py_inte\n",
    "        Dataframe_inte['P_Z'] = self.height_dict[str(self.index)]\n",
    "        # Dataframe_inte[\"P_Z\"] = Pz_inte\n",
    "        Dataframe_inte[\"Time_Stamp\"] = Pt_inte\n",
    "        return Dataframe_inte\n",
    "\n",
    "    def get_mag(self):\n",
    "        df_tem = pd.read_csv(self.mag_path, sep=\" \", names=[\"Serial_Num\", \"R_x\", \"R_y\", \"R_z\", \"Time_Stamp\"],\n",
    "                             index_col=\"Serial_Num\")\n",
    "        df_tem[\"Magnitude\"] = np.sqrt(\n",
    "            np.power(df_tem[\"R_x\"], 2) + np.power(df_tem[\"R_y\"], 2) + np.power(df_tem[\"R_z\"], 2))\n",
    "        return df_tem\n",
    "\n",
    "    def get_imu(self):\n",
    "        df_tem = pd.read_csv(self.imu_path, sep=\" \",\n",
    "                             names=['a_x', 'a_y', 'a_z', 'G_x', 'G_y', 'G_z', 'M_x', 'M_y', 'M_z', 'alpha', 'beta',\n",
    "                                    'gama', 'mill', 'Time_Stamp', 'index'],\n",
    "                             index_col=\"index\")\n",
    "        return df_tem\n",
    "\n",
    "    def get_IMU_info(self, time_mag, df_imu):\n",
    "        time_imu = df_imu['Time_Stamp'].to_numpy()\n",
    "        sub_array = abs(time_imu - time_mag)\n",
    "        index = np.argmin(sub_array)\n",
    "        alpha, beta, gama = df_imu.iloc[index, 9], df_imu.iloc[index, 10], df_imu.iloc[index, 11]\n",
    "        a_x, a_y, a_z = df_imu.iloc[index, 0], df_imu.iloc[index, 1], df_imu.iloc[index, 2]\n",
    "        return a_x, a_y, a_z, alpha, beta, gama\n",
    "\n",
    "    def get_position(self, time_mag, df_ultra):\n",
    "        time_ultra = df_ultra['Time_Stamp'].to_numpy()\n",
    "        sub_array = abs(time_ultra - time_mag)\n",
    "        index = np.argmin(sub_array)\n",
    "        p_x, p_y, p_z = df_ultra.iloc[index, 1], df_ultra.iloc[index, 2], df_ultra.iloc[index, 3]\n",
    "        # print(p_x,p_y,p_z)\n",
    "        return p_x, p_y, p_z\n",
    "\n",
    "    def merge_all(self):\n",
    "        df_mag = self.get_mag()\n",
    "        df_ultra = self.get_ultra()\n",
    "        df_imu = self.get_imu()\n",
    "        position = []\n",
    "        imu_data = []\n",
    "        for i in range(df_mag.shape[0]):\n",
    "            position.append(self.get_position(df_mag.iloc[i, 3], df_ultra))\n",
    "            imu_data.append(self.get_IMU_info(df_mag.iloc[i, 3], df_imu))\n",
    "        position_array = np.array(position)\n",
    "        imu_data_array = np.array(imu_data)\n",
    "        df_mag['p_x'] = position_array[:, 0]\n",
    "        df_mag['p_y'] = position_array[:, 1]\n",
    "        df_mag['p_z'] = position_array[:, 2]\n",
    "        df_mag['d_t1'] = np.sqrt(\n",
    "            np.power(position_array[:, 0] - 1.90, 2) + np.power(position_array[:, 1] - 0.17, 2) + np.power(\n",
    "                position_array[:, 2] - 1.24, 2))\n",
    "        df_mag['d_t2'] = np.sqrt(\n",
    "            np.power(position_array[:, 0] - 5.00, 2) + np.power(position_array[:, 1] - 0.33, 2) + np.power(\n",
    "                position_array[:, 2] - 1.24, 2))\n",
    "        df_mag['d_t3'] = np.sqrt(\n",
    "            np.power(position_array[:, 0] - 3.23, 2) + np.power(position_array[:, 1] + 2.94, 2) + np.power(\n",
    "                position_array[:, 2] - 1.24, 2))\n",
    "        df_mag['a_x'] = imu_data_array[:, 0]\n",
    "        df_mag['a_y'] = imu_data_array[:, 1]\n",
    "        df_mag['a_z'] = imu_data_array[:, 2]\n",
    "        df_mag['alpha'] = imu_data_array[:, 3]\n",
    "        df_mag['beta'] = imu_data_array[:, 4]\n",
    "        df_mag['gama'] = imu_data_array[:, 5]\n",
    "        return df_mag\n",
    "\n",
    "    def get_T_index(self, noise_threshould):\n",
    "        df_mag_merge = self.merge_all()\n",
    "        mag_array = np.array(df_mag_merge['Magnitude'].tolist())\n",
    "        mag_index = []\n",
    "        for rows in range(10, df_mag_merge.shape[0] - 100):\n",
    "            if np.sum(mag_array[rows - 1:rows + 4]) < np.sum(mag_array[rows:rows + 5]) and np.sum(\n",
    "                    mag_array[rows + 1:rows + 6]) < np.sum(mag_array[rows:rows + 5]) and np.min(\n",
    "                mag_array[rows:rows + 5]) > noise_threshould:  #### outdoor: 6800000\n",
    "                mag_index.append(rows)\n",
    "        T1_start = []\n",
    "        T2_start = []\n",
    "        T3_start = []\n",
    "\n",
    "        for index in range(len(mag_index) - 3):\n",
    "            if 7 < mag_index[index + 2] - mag_index[index + 1] < 11 and 7 < mag_index[index + 1] - mag_index[\n",
    "                index] < 11:\n",
    "                T1_start.append(mag_index[index])\n",
    "\n",
    "\n",
    "            elif 10 < mag_index[index + 2] - mag_index[index + 1] < 14 and 7 < mag_index[index + 1] - mag_index[\n",
    "                index] < 11:\n",
    "                T2_start.append(mag_index[index])\n",
    "\n",
    "            elif 7 < mag_index[index + 2] - mag_index[index + 1] < 11 and 10 < mag_index[index + 1] - mag_index[\n",
    "                index] < 14:\n",
    "                T3_start.append(mag_index[index])\n",
    "\n",
    "        return T1_start, T2_start, T3_start\n",
    "\n",
    "    def get_ml_features(self):\n",
    "        df_mag_merge = self.merge_all()\n",
    "        t1,t2,t3 = self.get_T_index(8000000)\n",
    "        period_start = []\n",
    "        for item in t1:\n",
    "            period_start.append(item)\n",
    "        for item in t2:\n",
    "            period_start.append(item - 40)\n",
    "        for item in t3:\n",
    "            period_start.append(item - 80)\n",
    "        T1_start = []\n",
    "        sorted_begin_list = sorted(period_start)\n",
    "        for i in range(1, len(period_start)):\n",
    "            if sorted_begin_list[i] - sorted_begin_list[i - 1] > 2:\n",
    "                T1_start.append(sorted_begin_list[i])\n",
    "        feature_list = []\n",
    "        feature_index = []\n",
    "        for item in T1_start:\n",
    "            feature_list.append(\n",
    "                (item, item + 9, item + 18, item + 40, item + 49, item + 60, item + 80, item + 92, item + 102))\n",
    "            feature_index.extend(\n",
    "                (item, item + 9, item + 18, item + 40, item + 49, item + 60, item + 80, item + 92, item + 102))\n",
    "        x_feature = []\n",
    "        y_feature = []\n",
    "\n",
    "        for item in feature_list:\n",
    "            x_feature.append([\n",
    "                max(df_mag_merge.iloc[item[0]:item[0] + 5, 4]),\n",
    "                max(df_mag_merge.iloc[item[1]:item[1] + 5, 4]),\n",
    "                max(df_mag_merge.iloc[item[2]:item[2] + 5, 4]),\n",
    "                max(df_mag_merge.iloc[item[3]:item[3] + 5, 4]),\n",
    "                max(df_mag_merge.iloc[item[4]:item[4] + 5, 4]),\n",
    "                max(df_mag_merge.iloc[item[5]:item[5] + 5, 4]),\n",
    "                max(df_mag_merge.iloc[item[6]:item[6] + 5, 4]),\n",
    "                max(df_mag_merge.iloc[item[7]:item[7] + 5, 4]),\n",
    "                max(df_mag_merge.iloc[item[8]:item[8] + 5, 4]),\n",
    "\n",
    "            ])\n",
    "            y_feature.append(\n",
    "                [df_mag_merge.iloc[item[0], 5], df_mag_merge.iloc[item[0], 6], df_mag_merge.iloc[item[0], 7]])\n",
    "        return x_feature,y_feature\n"
   ]
  },
  {
   "cell_type": "code",
   "execution_count": 4,
   "metadata": {},
   "outputs": [],
   "source": [
    "root = '/Users/guoqiushi/Documents/thesis/indoor_final/'\n",
    "file_1  = ml_fileObject(root,1)\n",
    "file_2  = ml_fileObject(root,2)\n",
    "file_3  = ml_fileObject(root,3)\n",
    "file_4  = ml_fileObject(root,4)\n",
    "file_5  = ml_fileObject(root,5)\n",
    "file_6  = ml_fileObject(root,6)\n",
    "file_7  = ml_fileObject(root,7)\n",
    "file_8  = ml_fileObject(root,8)"
   ]
  },
  {
   "cell_type": "code",
   "execution_count": 5,
   "metadata": {},
   "outputs": [],
   "source": [
    "x_feature_1,y_feature_1 = file_1.get_ml_features()\n",
    "x_feature_2,y_feature_2 = file_2.get_ml_features()\n",
    "x_feature_3,y_feature_3 = file_3.get_ml_features()\n",
    "x_feature_4,y_feature_4 = file_4.get_ml_features()\n",
    "x_feature_5,y_feature_5 = file_5.get_ml_features()\n",
    "x_feature_6,y_feature_6 = file_6.get_ml_features()\n",
    "x_feature_7,y_feature_7 = file_7.get_ml_features()\n",
    "x_feature_8,y_feature_8 = file_8.get_ml_features()"
   ]
  },
  {
   "cell_type": "code",
   "execution_count": 5,
   "metadata": {},
   "outputs": [],
   "source": [
    "x_train = x_feature_1+x_feature_2+x_feature_3+x_feature_4+x_feature_6+x_feature_7+x_feature_8\n",
    "y_train = y_feature_1+y_feature_2+y_feature_3+y_feature_4+y_feature_6+y_feature_7+y_feature_8"
   ]
  },
  {
   "cell_type": "code",
   "execution_count": 83,
   "metadata": {},
   "outputs": [],
   "source": [
    "x_scaler = preprocessing.StandardScaler().fit(x_train)\n",
    "y_scaler = preprocessing.StandardScaler().fit(y_train)"
   ]
  },
  {
   "cell_type": "code",
   "execution_count": 84,
   "metadata": {},
   "outputs": [],
   "source": [
    "x_train_mlp = x_scaler.transform(x_train)\n",
    "y_train_mlp = y_scaler.transform(y_train)"
   ]
  },
  {
   "cell_type": "code",
   "execution_count": 87,
   "metadata": {},
   "outputs": [],
   "source": [
    "x_test = x_scaler.transform(x_feature_5)\n",
    "y_test = y_scaler.transform(y_feature_5)"
   ]
  },
  {
   "cell_type": "code",
   "execution_count": 96,
   "metadata": {},
   "outputs": [
    {
     "data": {
      "text/plain": [
       "array([[ 4.18591501, -1.50188259,  0.86498261]])"
      ]
     },
     "execution_count": 96,
     "metadata": {},
     "output_type": "execute_result"
    }
   ],
   "source": [
    "y_scaler.inverse_transform(mlp_model.predict([x_test[350]]))"
   ]
  },
  {
   "cell_type": "code",
   "execution_count": 97,
   "metadata": {},
   "outputs": [
    {
     "data": {
      "text/plain": [
       "[4.3542, -1.4924000000000002, 0.936]"
      ]
     },
     "execution_count": 97,
     "metadata": {},
     "output_type": "execute_result"
    }
   ],
   "source": [
    "y_feature_5[350]"
   ]
  },
  {
   "cell_type": "code",
   "execution_count": 62,
   "metadata": {},
   "outputs": [],
   "source": [
    "def train_model(model_name):\n",
    "    \n",
    "    if model_name =='rf':\n",
    "        model = MultiOutputRegressor(RandomForestRegressor(n_estimators=100,\n",
    "                                                          max_depth=20,\n",
    "                                                          random_state=0))\n",
    "        \n",
    "\n",
    "    \n",
    "    elif model_name =='mlp':\n",
    "        model = MultiOutputRegressor(MLPRegressor(hidden_layer_sizes=(10), activation=\"relu\",\n",
    "                 solver='adam', alpha=0.0001,\n",
    "                 batch_size='auto', learning_rate=\"constant\",\n",
    "                 learning_rate_init=0.001,\n",
    "                 power_t=0.5, max_iter=500,tol=1e-4))\n",
    "        \n",
    "        \n",
    "    elif model_name == 'knn':\n",
    "        model = MultiOutputRegressor(KNeighborsRegressor(n_neighbors=1))\n",
    "        \n",
    "        \n",
    "    elif model_name == 'ada':\n",
    "        model = MultiOutputRegressor(AdaBoostRegressor(random_state=0, n_estimators=100))\n",
    "        \n",
    "        \n",
    "    elif model_name == 'gb':\n",
    "        model = MultiOutputRegressor(GradientBoostingRegressor(random_state=1, n_estimators=100))\n",
    "        \n",
    "    \n",
    "    return model"
   ]
  },
  {
   "cell_type": "code",
   "execution_count": 43,
   "metadata": {},
   "outputs": [],
   "source": [
    "knn_model = train_model('knn')\n",
    "rf_model = train_model('rf')\n",
    "mlp_model = train_model('mlp')\n",
    "ada_model = train_model('ada')\n",
    "gb_model = train_model('gb')"
   ]
  },
  {
   "cell_type": "code",
   "execution_count": 115,
   "metadata": {},
   "outputs": [
    {
     "name": "stderr",
     "output_type": "stream",
     "text": [
      "/usr/local/lib/python3.7/site-packages/sklearn/neural_network/multilayer_perceptron.py:562: ConvergenceWarning: Stochastic Optimizer: Maximum iterations (200) reached and the optimization hasn't converged yet.\n",
      "  % self.max_iter, ConvergenceWarning)\n"
     ]
    }
   ],
   "source": []
  },
  {
   "cell_type": "code",
   "execution_count": 117,
   "metadata": {},
   "outputs": [],
   "source": [
    "rf_model = train_model('rf')\n",
    "_model = train_model('rf')"
   ]
  },
  {
   "cell_type": "code",
   "execution_count": 107,
   "metadata": {},
   "outputs": [],
   "source": [
    "def cal_loss(index,model):\n",
    "    prediction = y_scaler.inverse_transform(model.predict([x_test[index]]))[0].tolist()\n",
    "    truth = y_feature_5[index]\n",
    "    return math.sqrt(math.pow(prediction[0]-truth[0],2)+math.pow(prediction[1]-truth[1],2)+\n",
    "                    math.pow(prediction[2]-truth[2],2))"
   ]
  },
  {
   "cell_type": "code",
   "execution_count": 78,
   "metadata": {},
   "outputs": [],
   "source": [
    "def cross_val(index,model):\n",
    "    x_list = [x_feature_1,x_feature_2,x_feature_3,x_feature_4,x_feature_5,x_feature_6,x_feature_7,x_feature_8]\n",
    "    y_list = [y_feature_1,y_feature_2,y_feature_3,y_feature_4,y_feature_5,y_feature_6,y_feature_7,y_feature_8]\n",
    "    x_data = x_feature_1+x_feature_2+x_feature_3+x_feature_4+x_feature_5+x_feature_6+x_feature_7+x_feature_8\n",
    "    y_data = y_feature_1+y_feature_2+y_feature_3+y_feature_4+y_feature_5+y_feature_6+y_feature_7+y_feature_8\n",
    "    for item in x_list[index]:\n",
    "        x_data.remove(item)\n",
    "    for item in y_list[index]:\n",
    "        y_data.remove(item)\n",
    "    x_scaler = preprocessing.StandardScaler().fit(x_data)\n",
    "    y_scaler = preprocessing.StandardScaler().fit(y_data)\n",
    "    x_train = x_scaler.transform(x_data)\n",
    "    y_train = y_scaler.transform(y_data)\n",
    "    x_test = x_scaler.transform(x_list[index])\n",
    "    y_test = y_list[index]\n",
    "    result = []\n",
    "    model.fit(x_train,y_train)\n",
    "    test_index = random.sample(range(1,len(y_test)),500)\n",
    "    for item in test_index:\n",
    "        prediction = y_scaler.inverse_transform(model.predict([x_test[item]]))[0].tolist()\n",
    "        truth = y_test[item]\n",
    "        dis_error = math.sqrt(math.pow(prediction[0]-truth[0],2)+math.pow(prediction[1]-truth[1],2)+\n",
    "                    math.pow(prediction[2]-truth[2],2))\n",
    "        result.append(dis_error)\n",
    "    return result"
   ]
  },
  {
   "cell_type": "code",
   "execution_count": 44,
   "metadata": {},
   "outputs": [
    {
     "data": {
      "text/plain": [
       "0.3545358054689883"
      ]
     },
     "execution_count": 44,
     "metadata": {},
     "output_type": "execute_result"
    }
   ],
   "source": [
    "np.mean(cross_val(5,gb_model))"
   ]
  },
  {
   "cell_type": "code",
   "execution_count": 45,
   "metadata": {},
   "outputs": [
    {
     "data": {
      "text/plain": [
       "0.7232964990068013"
      ]
     },
     "execution_count": 45,
     "metadata": {},
     "output_type": "execute_result"
    }
   ],
   "source": [
    "np.mean(cross_val(5,ada_model))"
   ]
  },
  {
   "cell_type": "code",
   "execution_count": 46,
   "metadata": {},
   "outputs": [
    {
     "data": {
      "text/plain": [
       "0.38131497023933913"
      ]
     },
     "execution_count": 46,
     "metadata": {},
     "output_type": "execute_result"
    }
   ],
   "source": [
    "np.mean(cross_val(5,mlp_model))"
   ]
  },
  {
   "cell_type": "code",
   "execution_count": 50,
   "metadata": {},
   "outputs": [
    {
     "data": {
      "text/plain": [
       "0.2029157823065288"
      ]
     },
     "execution_count": 50,
     "metadata": {},
     "output_type": "execute_result"
    }
   ],
   "source": [
    "np.mean(cross_val(3,rf_model))"
   ]
  },
  {
   "cell_type": "code",
   "execution_count": 49,
   "metadata": {},
   "outputs": [
    {
     "data": {
      "text/plain": [
       "0.24743730965268104"
      ]
     },
     "execution_count": 49,
     "metadata": {},
     "output_type": "execute_result"
    }
   ],
   "source": [
    "np.mean(cross_val(3,knn_model))"
   ]
  },
  {
   "cell_type": "code",
   "execution_count": 57,
   "metadata": {},
   "outputs": [],
   "source": [
    "def test_cross_val(model):\n",
    "    dis = []\n",
    "    for i in range(8):\n",
    "        dis.append(np.mean(cross_val(i,model)))\n",
    "    return dis"
   ]
  },
  {
   "cell_type": "code",
   "execution_count": 58,
   "metadata": {},
   "outputs": [],
   "source": [
    "knn_result = test_cross_val(knn_model)"
   ]
  },
  {
   "cell_type": "code",
   "execution_count": 60,
   "metadata": {},
   "outputs": [
    {
     "data": {
      "text/plain": [
       "0.2819932396360939"
      ]
     },
     "execution_count": 60,
     "metadata": {},
     "output_type": "execute_result"
    }
   ],
   "source": [
    "np.mean(knn_result)"
   ]
  },
  {
   "cell_type": "code",
   "execution_count": 63,
   "metadata": {},
   "outputs": [
    {
     "name": "stderr",
     "output_type": "stream",
     "text": [
      "/usr/local/lib/python3.7/site-packages/sklearn/neural_network/multilayer_perceptron.py:562: ConvergenceWarning: Stochastic Optimizer: Maximum iterations (300) reached and the optimization hasn't converged yet.\n",
      "  % self.max_iter, ConvergenceWarning)\n",
      "/usr/local/lib/python3.7/site-packages/sklearn/neural_network/multilayer_perceptron.py:562: ConvergenceWarning: Stochastic Optimizer: Maximum iterations (300) reached and the optimization hasn't converged yet.\n",
      "  % self.max_iter, ConvergenceWarning)\n"
     ]
    }
   ],
   "source": [
    "mlp_result = test_cross_val(mlp_model)"
   ]
  },
  {
   "cell_type": "code",
   "execution_count": 65,
   "metadata": {},
   "outputs": [
    {
     "data": {
      "text/plain": [
       "0.38201235809602435"
      ]
     },
     "execution_count": 65,
     "metadata": {},
     "output_type": "execute_result"
    }
   ],
   "source": [
    "np.std(mlp_result)"
   ]
  },
  {
   "cell_type": "code",
   "execution_count": 66,
   "metadata": {},
   "outputs": [],
   "source": [
    "rf_result = test_cross_val(rf_model)"
   ]
  },
  {
   "cell_type": "code",
   "execution_count": 76,
   "metadata": {},
   "outputs": [
    {
     "data": {
      "text/plain": [
       "0.0538799271535557"
      ]
     },
     "execution_count": 76,
     "metadata": {},
     "output_type": "execute_result"
    }
   ],
   "source": [
    "np.std(rf_result)"
   ]
  },
  {
   "cell_type": "code",
   "execution_count": 69,
   "metadata": {},
   "outputs": [],
   "source": [
    "gb_result = test_cross_val(gb_model)"
   ]
  },
  {
   "cell_type": "code",
   "execution_count": 75,
   "metadata": {},
   "outputs": [
    {
     "data": {
      "text/plain": [
       "0.057794185967305456"
      ]
     },
     "execution_count": 75,
     "metadata": {},
     "output_type": "execute_result"
    }
   ],
   "source": [
    "np.std(gb_result)"
   ]
  },
  {
   "cell_type": "code",
   "execution_count": 79,
   "metadata": {},
   "outputs": [],
   "source": [
    "ad_result = test_cross_val(ada_model)"
   ]
  },
  {
   "cell_type": "code",
   "execution_count": 83,
   "metadata": {},
   "outputs": [
    {
     "data": {
      "text/plain": [
       "0.3026181058111125"
      ]
     },
     "execution_count": 83,
     "metadata": {},
     "output_type": "execute_result"
    }
   ],
   "source": [
    "np.std(cross_val(5,gb_model))"
   ]
  },
  {
   "cell_type": "code",
   "execution_count": 88,
   "metadata": {},
   "outputs": [],
   "source": [
    "def time_test(model):\n",
    "    time_start = time.time()\n",
    "    model.predict([x_feature_5[10]])\n",
    "    time_end = time.time()\n",
    "    print(time_end-time_start)"
   ]
  },
  {
   "cell_type": "code",
   "execution_count": 99,
   "metadata": {},
   "outputs": [
    {
     "name": "stdout",
     "output_type": "stream",
     "text": [
      "0.0014019012451171875\n"
     ]
    }
   ],
   "source": [
    "time_test(gb_model)"
   ]
  },
  {
   "cell_type": "code",
   "execution_count": 248,
   "metadata": {},
   "outputs": [
    {
     "data": {
      "image/png": "[encoded data removed]",
      "text/plain": [
       "<Figure size 1008x720 with 1 Axes>"
      ]
     },
     "metadata": {
      "needs_background": "light"
     },
     "output_type": "display_data"
    }
   ],
   "source": [
    "true_pos = np.array(y_feature_5)\n",
    "predict_pos = np.array(predict_pos)\n",
    "plt.figure(figsize=(14,10))\n",
    "plt.scatter([1.90,5.00,3.23],[0.17,0.33,-2.94],c='black')\n",
    "plt.scatter(true_pos[:100,0],true_pos[:100,1],c='red')\n",
    "plt.scatter(rm_outlier[:,0],rm_outlier[:,1],c='green')\n",
    "#plt.scatter(predict_pos[:50,0],predict_pos[:50,1],c='green')\n",
    "plt.show()"
   ]
  },
  {
   "cell_type": "code",
   "execution_count": 244,
   "metadata": {},
   "outputs": [],
   "source": [
    "x_list = [x_feature_1,x_feature_2,x_feature_3,x_feature_4,x_feature_5,x_feature_6,x_feature_7,x_feature_8]\n",
    "y_list = [y_feature_1,y_feature_2,y_feature_3,y_feature_4,y_feature_5,y_feature_6,y_feature_7,y_feature_8]\n",
    "x_data = x_feature_1+x_feature_2+x_feature_3+x_feature_4+x_feature_5+x_feature_6+x_feature_7+x_feature_8\n",
    "y_data = y_feature_1+y_feature_2+y_feature_3+y_feature_4+y_feature_5+y_feature_6+y_feature_7+y_feature_8\n",
    "x_scaler = preprocessing.StandardScaler().fit(x_data)\n",
    "y_scaler = preprocessing.StandardScaler().fit(y_data)\n",
    "test_index =  x_scaler.transform(x_feature_5[:1000])\n",
    "predict_pos = y_scaler.inverse_transform(rf_model.predict(test_index)).tolist()"
   ]
  },
  {
   "cell_type": "code",
   "execution_count": 161,
   "metadata": {},
   "outputs": [],
   "source": [
    "def dead_reckning(pos,acc,vol,time_period,eular):\n",
    "    v_x = vol[0]\n",
    "    v_y = vol[1]\n",
    "    v_z = vol[2]\n",
    "    alpha = eular[0]\n",
    "    beta = eular[1]\n",
    "    gama = eular[2]\n",
    "    a_x = acc[0]\n",
    "    a_y = acc[1]\n",
    "    a_z = acc[2]\n",
    "    \n",
    "    trans = np.array([\n",
    "    [1,0,0,time_period,0,0],\n",
    "    [0,1,0,0,time_period,0],\n",
    "    [0,0,1,0,0,time_period],\n",
    "    [0,0,0,1,0,0],\n",
    "    [0,0,0,0,1,0],\n",
    "    [0,0,0,0,0,1]])\n",
    "    \n",
    "    D = np.array([\n",
    "    [0.5*time_period*time_period,0,0],\n",
    "    [0,0.5*time_period*time_period,0],\n",
    "    [0,0,0.5*time_period*time_period],\n",
    "    [time_period,0,0],\n",
    "    [0,time_period,0],\n",
    "    [0,0,time_period]])\n",
    "    \n",
    "    Rot = np.array([\n",
    "    [cos(alpha)*cos(gama),cos(alpha)*sin(gama)*sin(beta)-sin(alpha)*cos(beta),cos(alpha)*sin(gama)*cos(beta)+sin(alpha)*sin(beta)],\n",
    "    [sin(alpha)*cos(gama),sin(alpha)*sin(beta)*sin(gama)+cos(alpha)*cos(beta),sin(alpha)*cos(beta)*cos(gama)-cos(alpha)*sin(beta)],\n",
    "    [-sin(gama),cos(gama)*sin(beta),cos(gama)*cos(beta)]])\n",
    "    \n",
    "    x_pre = np.array([pos[0],pos[1],pos[2],v_x,v_y,v_z])\n",
    "    U = [a_x,a_y,a_z]\n",
    "    \n",
    "    x_cur = np.dot(trans,x_pre)+np.dot(np.dot(D,Rot),U) \n",
    "    return x_cur[:3],x_cur[3:]   "
   ]
  },
  {
   "cell_type": "code",
   "execution_count": null,
   "metadata": {},
   "outputs": [],
   "source": [
    "def predict_reck(index_end,pos,vol):\n",
    "    \n",
    "    acc = (df_merge_5.iloc[model1_t1[index_end],11]*0.01,df_merge_5.iloc[model1_t1[index_end],12]*0.01,df_merge_5.iloc[model1_t1[index_end],13]*0.01)\n",
    "    time_period = df_merge_1.iloc[model1_t1[index_end],3]-df_merge_1.iloc[model1_t1[index_end]-1,3]\n",
    "    eular = (df_merge_1.iloc[model1_t1[index_end],14],df_merge_1.iloc[model1_t1[index_end],15],df_merge_1.iloc[model1_t1[index_end],16])\n",
    "    pos_,vol_ = dead_reckning(pos,acc,vol,time_period,eular)\n",
    "\n",
    "    return pos_,vol_"
   ]
  },
  {
   "cell_type": "code",
   "execution_count": 127,
   "metadata": {},
   "outputs": [],
   "source": [
    "period_start = file_5.get_T_index(8000000)"
   ]
  },
  {
   "cell_type": "code",
   "execution_count": 129,
   "metadata": {},
   "outputs": [],
   "source": [
    "period_index = period_start[:100]"
   ]
  },
  {
   "cell_type": "code",
   "execution_count": 179,
   "metadata": {},
   "outputs": [],
   "source": [
    "pos_init = [2.723,-2.560,0.940]\n",
    "v_init= [-0.05,0.08,0.03]\n",
    "acc = [-0.2,-0.4,-0.35]\n",
    "euler = [66.94,87.31,177.81]\n",
    "time_period = 0.12"
   ]
  },
  {
   "cell_type": "code",
   "execution_count": 181,
   "metadata": {},
   "outputs": [
    {
     "data": {
      "text/plain": [
       "(array([ 2.71374058, -2.55046789,  0.9450463 ]),\n",
       " array([-0.10432372,  0.0788685 ,  0.05410492]))"
      ]
     },
     "execution_count": 181,
     "metadata": {},
     "output_type": "execute_result"
    }
   ],
   "source": [
    "dead_reckning(pos_init,acc,v_init,time_period,euler)"
   ]
  },
  {
   "cell_type": "code",
   "execution_count": 218,
   "metadata": {},
   "outputs": [
    {
     "data": {
      "text/plain": [
       "IsolationForest(behaviour='new', bootstrap=False, contamination='auto',\n",
       "        max_features=1.0, max_samples=10, n_estimators=2, n_jobs=None,\n",
       "        random_state=1, verbose=0)"
      ]
     },
     "execution_count": 218,
     "metadata": {},
     "output_type": "execute_result"
    }
   ],
   "source": [
    "outlier_detect = IsolationForest(behaviour='new', max_samples=10,\n",
    "                      random_state=1, contamination='auto',n_estimators=2)\n",
    "outlier_detect.fit(predict_pos[:100])"
   ]
  },
  {
   "cell_type": "code",
   "execution_count": 220,
   "metadata": {},
   "outputs": [
    {
     "data": {
      "text/plain": [
       "array([ 1, -1, -1, -1,  1,  1,  1, -1,  1,  1])"
      ]
     },
     "execution_count": 220,
     "metadata": {},
     "output_type": "execute_result"
    }
   ],
   "source": [
    "outlier_detect.predict(predict_pos[10:20])"
   ]
  },
  {
   "cell_type": "code",
   "execution_count": 221,
   "metadata": {},
   "outputs": [
    {
     "data": {
      "text/plain": [
       "array([[ 2.75479907, -2.5575437 ,  0.99735603],\n",
       "       [ 2.85874476, -2.55198015,  0.84086003],\n",
       "       [ 3.23709206, -2.33599806,  0.93325479],\n",
       "       [ 3.17597139, -1.92293725,  0.91346094],\n",
       "       [ 2.77358117, -2.54425806,  0.99746018],\n",
       "       [ 2.7718722 , -2.55449112,  0.99661536],\n",
       "       [ 2.7789191 , -2.55154509,  0.99485627],\n",
       "       [ 2.9521556 , -2.44859389,  0.97593448],\n",
       "       [ 2.83974869, -2.5579356 ,  0.99508773],\n",
       "       [ 2.76484654, -2.55329824,  0.99553907]])"
      ]
     },
     "execution_count": 221,
     "metadata": {},
     "output_type": "execute_result"
    }
   ],
   "source": [
    "predict_pos[10:20]"
   ]
  },
  {
   "cell_type": "code",
   "execution_count": 296,
   "metadata": {},
   "outputs": [],
   "source": [
    "outlier_index = []\n",
    "for i in range(10):\n",
    "  \n",
    "    \n",
    "    outlier_detect = IsolationForest(behaviour='new', max_samples=10,\n",
    "                      random_state=1, contamination='auto',n_estimators=6)\n",
    "\n",
    "    \n",
    "    outlier_detect.fit(predict_pos[i*10:(i+1)*10])\n",
    "    outlier_index.extend(outlier_detect.predict(predict_pos[i*10:(i+1)*10]))"
   ]
  },
  {
   "cell_type": "code",
   "execution_count": 297,
   "metadata": {},
   "outputs": [],
   "source": [
    "rm_outlier =[]\n",
    "for index,item in enumerate(outlier_index):\n",
    "    if item!=-1:\n",
    "        rm_outlier.append(predict_pos[index])\n",
    "rm_outlier = np.array(rm_outlier)"
   ]
  },
  {
   "cell_type": "code",
   "execution_count": 342,
   "metadata": {},
   "outputs": [
    {
     "data": {
      "image/png": "[encoded data removed]",
      "text/plain": [
       "<Figure size 1008x720 with 1 Axes>"
      ]
     },
     "metadata": {
      "needs_background": "light"
     },
     "output_type": "display_data"
    }
   ],
   "source": [
    "true_pos = np.array(y_feature_5)\n",
    "predict_pos = np.array(predict_pos)\n",
    "plt.figure(figsize=(14,10))\n",
    "plt.scatter([1.90,5.00,3.23],[0.17,0.33,-2.94],c='black',label='transmitter')\n",
    "plt.scatter(true_pos[:100,0],true_pos[:100,1],c='red',label='True trace')\n",
    "plt.scatter(filter_result[:100,0],filter_result[:100,1],c='green',label='predition')\n",
    "plt.legend(loc='lower right')\n",
    "#plt.scatter(predict_pos[:50,0],predict_pos[:50,1],c='green')\n",
    "plt.savefig('/Users/guoqiushi/Documents/sequence.png')\n",
    "plt.show()"
   ]
  },
  {
   "cell_type": "code",
   "execution_count": 340,
   "metadata": {},
   "outputs": [],
   "source": [
    "filter_result = []\n",
    "previous = predict_pos[0]\n",
    "for i in range(1,len(predict_pos)-1):\n",
    "    if abs(predict_pos[i][0]-predict_pos[i-1][0])<0.1 and abs(predict_pos[i][1]-predict_pos[i-1][1])<0.1 and abs(predict_pos[i][2]-predict_pos[i-1][2])<0.1:\n",
    "        filter_result.append(predict_pos[i])\n",
    "    else:\n",
    "        filter_result.append(previous)\n",
    "    previous = filter_result[-1]\n",
    "filter_result = np.array(filter_result)"
   ]
  },
  {
   "cell_type": "code",
   "execution_count": 349,
   "metadata": {},
   "outputs": [
    {
     "data": {
      "text/plain": [
       "array([[ 2.77501553, -2.55550663,  0.99570109],\n",
       "       [ 2.76552655, -2.55204439,  0.99069   ],\n",
       "       [ 2.76079897, -2.56630349,  0.99746018],\n",
       "       [ 2.76640645, -2.55071812,  0.99482155],\n",
       "       [ 2.76569707, -2.54424942,  0.98471707],\n",
       "       [ 2.76771822, -2.55523661,  0.99674266],\n",
       "       [ 2.76773166, -2.549157  ,  0.99602514],\n",
       "       [ 2.85708584, -2.53627708,  0.98391982],\n",
       "       [ 2.85708584, -2.53627708,  0.98391982],\n",
       "       [ 2.75479907, -2.5575437 ,  0.99735603]])"
      ]
     },
     "execution_count": 349,
     "metadata": {},
     "output_type": "execute_result"
    }
   ],
   "source": [
    "filter_result[:10]"
   ]
  },
  {
   "cell_type": "code",
   "execution_count": 353,
   "metadata": {},
   "outputs": [],
   "source": [
    "sequence_result = []\n",
    "for i in range(100):\n",
    "    sequence_result.append(math.sqrt(pow(true_pos[i][0]-filter_result[i][0],2)+pow(true_pos[i][1]-filter_result[i][1],2)+pow(true_pos[i][2]-filter_result[i][2],2)))"
   ]
  },
  {
   "cell_type": "code",
   "execution_count": 351,
   "metadata": {},
   "outputs": [
    {
     "data": {
      "text/plain": [
       "array([[ 2.731 , -2.573 ,  0.936 ],\n",
       "       [ 2.731 , -2.573 ,  0.936 ],\n",
       "       [ 2.731 , -2.5737,  0.936 ],\n",
       "       [ 2.731 , -2.574 ,  0.936 ],\n",
       "       [ 2.7294, -2.5746,  0.936 ],\n",
       "       [ 2.729 , -2.5742,  0.936 ],\n",
       "       [ 2.7294, -2.573 ,  0.936 ],\n",
       "       [ 2.7308, -2.5722,  0.936 ],\n",
       "       [ 2.7316, -2.5726,  0.936 ],\n",
       "       [ 2.733 , -2.573 ,  0.936 ]])"
      ]
     },
     "execution_count": 351,
     "metadata": {},
     "output_type": "execute_result"
    }
   ],
   "source": [
    "true_pos[:10]"
   ]
  },
  {
   "cell_type": "code",
   "execution_count": 357,
   "metadata": {},
   "outputs": [
    {
     "data": {
      "text/plain": [
       "0.07950115867460403"
      ]
     },
     "execution_count": 357,
     "metadata": {},
     "output_type": "execute_result"
    }
   ],
   "source": [
    "np.mean(sequence_result)"
   ]
  },
  {
   "cell_type": "code",
   "execution_count": null,
   "metadata": {},
   "outputs": [],
   "source": []
  }
 ],
 "metadata": {
  "kernelspec": {
   "display_name": "Python 3",
   "language": "python",
   "name": "python3"
  },
  "language_info": {
   "codemirror_mode": {
    "name": "ipython",
    "version": 3
   },
   "file_extension": ".py",
   "mimetype": "text/x-python",
   "name": "python",
   "nbconvert_exporter": "python",
   "pygments_lexer": "ipython3",
   "version": "3.7.3"
  }
 },
 "nbformat": 4,
 "nbformat_minor": 2
}
